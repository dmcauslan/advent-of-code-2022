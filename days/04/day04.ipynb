{
 "cells": [
  {
   "cell_type": "code",
   "execution_count": 1,
   "id": "fea6406d",
   "metadata": {},
   "outputs": [],
   "source": [
    "from dataclasses import dataclass\n",
    "\n",
    "@dataclass\n",
    "class Range():\n",
    "    start: int\n",
    "    end: int\n",
    "        \n",
    "    @staticmethod\n",
    "    def parse(part):\n",
    "        start, end = part.split(\"-\")\n",
    "        return Range(int(start), int(end))\n",
    "    \n",
    "    def contains(self, other: \"Range\"):\n",
    "        return self.start <= other.start and self.end >= other.end\n",
    "    \n",
    "    def overlaps(self, other: \"Range\"):\n",
    "        # Four cases\n",
    "        # - other overlaps start\n",
    "        # - other overlaps end\n",
    "        # - other is within self\n",
    "        # - self is within other\n",
    "        return other.start <= self.start <= other.end \\\n",
    "            or other.end <= self.end <= other.end \\\n",
    "            or (other.start >= self.start and other.end <= self.end) \\\n",
    "            or (other.start <= self.start and other.end >= self.end)\n",
    "\n",
    "def read_file():\n",
    "    \n",
    "    def parse_line(line):\n",
    "        parts = line.strip().split(\",\")\n",
    "        return Range.parse(parts[0]), Range.parse(parts[1])\n",
    "    \n",
    "    with open(\"input.txt\", \"rt\") as f:\n",
    "        return [parse_line(l) for l in f]"
   ]
  },
  {
   "cell_type": "code",
   "execution_count": 2,
   "id": "28a0de13",
   "metadata": {},
   "outputs": [
    {
     "data": {
      "text/plain": [
       "599"
      ]
     },
     "execution_count": 2,
     "metadata": {},
     "output_type": "execute_result"
    }
   ],
   "source": [
    "# Part 1\n",
    "\n",
    "def contains(range_pair):\n",
    "    r1, r2 = range_pair\n",
    "    return r1.contains(r2) or r2.contains(r1)\n",
    "\n",
    "data = read_file()\n",
    "len([d for d in data if contains(d)])"
   ]
  },
  {
   "cell_type": "code",
   "execution_count": 3,
   "id": "f939bb6d",
   "metadata": {},
   "outputs": [
    {
     "data": {
      "text/plain": [
       "928"
      ]
     },
     "execution_count": 3,
     "metadata": {},
     "output_type": "execute_result"
    }
   ],
   "source": [
    "# Part 2\n",
    "\n",
    "def overlaps(range_pair):\n",
    "    r1, r2 = range_pair\n",
    "    return r1.overlaps(r2) or r2.overlaps(r1)\n",
    "\n",
    "data = read_file()\n",
    "len([d for d in data if overlaps(d)])"
   ]
  },
  {
   "cell_type": "code",
   "execution_count": null,
   "id": "ae60e63e",
   "metadata": {},
   "outputs": [],
   "source": []
  }
 ],
 "metadata": {
  "kernelspec": {
   "display_name": "Python 3 (ipykernel)",
   "language": "python",
   "name": "python3"
  },
  "language_info": {
   "codemirror_mode": {
    "name": "ipython",
    "version": 3
   },
   "file_extension": ".py",
   "mimetype": "text/x-python",
   "name": "python",
   "nbconvert_exporter": "python",
   "pygments_lexer": "ipython3",
   "version": "3.10.6"
  }
 },
 "nbformat": 4,
 "nbformat_minor": 5
}
