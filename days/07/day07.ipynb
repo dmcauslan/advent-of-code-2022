{
 "cells": [
  {
   "cell_type": "code",
   "execution_count": 1,
   "id": "668f34d7",
   "metadata": {},
   "outputs": [],
   "source": [
    "from dataclasses import dataclass, field\n",
    "from typing import List\n",
    "from collections import defaultdict"
   ]
  },
  {
   "cell_type": "code",
   "execution_count": 2,
   "id": "51904fb1",
   "metadata": {},
   "outputs": [],
   "source": [
    "sample_input = \"\"\"\n",
    "$ cd /\n",
    "$ ls\n",
    "dir a\n",
    "14848514 b.txt\n",
    "8504156 c.dat\n",
    "dir d\n",
    "$ cd a\n",
    "$ ls\n",
    "dir e\n",
    "29116 f\n",
    "2557 g\n",
    "62596 h.lst\n",
    "$ cd e\n",
    "$ ls\n",
    "584 i\n",
    "$ cd ..\n",
    "$ cd ..\n",
    "$ cd d\n",
    "$ ls\n",
    "4060174 j\n",
    "8033020 d.log\n",
    "5626152 d.ext\n",
    "7214296 k\n",
    "\"\"\"\n",
    "\n",
    "def read_input():\n",
    "    with open(\"input.txt\", \"rt\") as f:\n",
    "        return f.readlines()"
   ]
  },
  {
   "cell_type": "code",
   "execution_count": 3,
   "id": "2cb72fb9",
   "metadata": {},
   "outputs": [],
   "source": [
    "\n",
    "@dataclass\n",
    "class File():\n",
    "    name: str\n",
    "    size: int\n",
    "\n",
    "@dataclass\n",
    "class Dir():\n",
    "    files: list[File] = field(default_factory=list)\n",
    "\n",
    "def parse_input(lines):\n",
    "    dirs = defaultdict(Dir)\n",
    "    cwd = []\n",
    "    for l in lines:\n",
    "        l = l.strip()\n",
    "        if not l:\n",
    "            continue\n",
    "        parts = l.split(\" \")\n",
    "        if parts[0] == \"$\":\n",
    "            if parts[1] == \"cd\":\n",
    "                if parts[2] == \"/\":\n",
    "                    cwd = [\"/\"]\n",
    "                elif parts[2] == \"..\":\n",
    "                    cwd = cwd[:-1]\n",
    "                else:\n",
    "                    cwd.append(parts[2])\n",
    "        elif parts[0] == \"dir\":\n",
    "            pass\n",
    "        else:\n",
    "            size = int(parts[0])\n",
    "            name = parts[1]\n",
    "            dirs[tuple(cwd)].files.append(File(name, size))\n",
    "    return dirs\n",
    "\n",
    "def calc_sizes(tree):\n",
    "    summary = defaultdict(int)\n",
    "    \n",
    "    def roll_up(dir_name, size):\n",
    "        if dir_name:\n",
    "            summary[dir_name] += size\n",
    "            roll_up(dir_name[:-1], size)\n",
    "    \n",
    "    for key, value in tree.items():\n",
    "        for f in value.files:\n",
    "            roll_up(key, f.size)\n",
    "            \n",
    "    return summary"
   ]
  },
  {
   "cell_type": "code",
   "execution_count": 4,
   "id": "3ca7c450",
   "metadata": {},
   "outputs": [
    {
     "data": {
      "text/plain": [
       "95437"
      ]
     },
     "execution_count": 4,
     "metadata": {},
     "output_type": "execute_result"
    }
   ],
   "source": [
    "summary = calc_sizes(parse_input(sample_input.split(\"\\n\")))\n",
    "sum([size for _, size in summary.items() if size <= 100000])"
   ]
  },
  {
   "cell_type": "code",
   "execution_count": 5,
   "id": "3e5a0ff2",
   "metadata": {},
   "outputs": [
    {
     "data": {
      "text/plain": [
       "2104783"
      ]
     },
     "execution_count": 5,
     "metadata": {},
     "output_type": "execute_result"
    }
   ],
   "source": [
    "# Part 1\n",
    "tree = parse_input(read_input())\n",
    "summary = calc_sizes(tree)\n",
    "sum([size for _, size in summary.items() if size <= 100000])"
   ]
  },
  {
   "cell_type": "code",
   "execution_count": 6,
   "id": "907ad464",
   "metadata": {},
   "outputs": [
    {
     "data": {
      "text/plain": [
       "(('/', 'd'), 24933642)"
      ]
     },
     "execution_count": 6,
     "metadata": {},
     "output_type": "execute_result"
    }
   ],
   "source": [
    "# Part 2\n",
    "disk_size = 70000000\n",
    "space_needed = 30000000\n",
    "summary = calc_sizes(parse_input(sample_input.split(\"\\n\")))\n",
    "space_used = summary[tuple(\"/\")]\n",
    "remaining_space = disk_size - space_used\n",
    "amount_to_free = space_needed - remaining_space\n",
    "amount_to_free\n",
    "sorted([(d, size) for d, size in summary.items() if size >= amount_to_free], key=lambda x: x[1])[0]"
   ]
  },
  {
   "cell_type": "code",
   "execution_count": 7,
   "id": "6b86c810",
   "metadata": {},
   "outputs": [
    {
     "data": {
      "text/plain": [
       "(('/', 'htczftcn', 'nflgvsgz', 'svmmm'), 5883165)"
      ]
     },
     "execution_count": 7,
     "metadata": {},
     "output_type": "execute_result"
    }
   ],
   "source": [
    "disk_size = 70000000\n",
    "space_needed = 30000000\n",
    "summary = calc_sizes(parse_input(read_input()))\n",
    "space_used = summary[tuple(\"/\")]\n",
    "remaining_space = disk_size - space_used\n",
    "amount_to_free = space_needed - remaining_space\n",
    "amount_to_free\n",
    "sorted([(d, size) for d, size in summary.items() if size >= amount_to_free], key=lambda x: x[1])[0]"
   ]
  },
  {
   "cell_type": "code",
   "execution_count": null,
   "id": "5f3a2509",
   "metadata": {},
   "outputs": [],
   "source": []
  }
 ],
 "metadata": {
  "kernelspec": {
   "display_name": "Python 3 (ipykernel)",
   "language": "python",
   "name": "python3"
  },
  "language_info": {
   "codemirror_mode": {
    "name": "ipython",
    "version": 3
   },
   "file_extension": ".py",
   "mimetype": "text/x-python",
   "name": "python",
   "nbconvert_exporter": "python",
   "pygments_lexer": "ipython3",
   "version": "3.10.6"
  }
 },
 "nbformat": 4,
 "nbformat_minor": 5
}
