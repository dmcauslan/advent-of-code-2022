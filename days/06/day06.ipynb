{
 "cells": [
  {
   "cell_type": "code",
   "execution_count": 8,
   "id": "bcea28a9",
   "metadata": {},
   "outputs": [],
   "source": [
    "def parse_input():\n",
    "    with open(\"input.txt\", \"rt\") as f:\n",
    "        return f.read().strip()\n",
    "    \n",
    "sample_text = [\n",
    "    (\"bvwbjplbgvbhsrlpgdmjqwftvncz\", 5),\n",
    "    (\"nppdvjthqldpwncqszvftbrmjlhg\", 6),\n",
    "    (\"nznrnfrfntjfmvfwmzdfjlvtqnbhcprsg\", 10),\n",
    "    (\"zcfzfwzzqfrljwzlrfnpqdbhtmscgvjw\", 11)\n",
    "]"
   ]
  },
  {
   "cell_type": "code",
   "execution_count": 22,
   "id": "50d66839",
   "metadata": {},
   "outputs": [
    {
     "name": "stdout",
     "output_type": "stream",
     "text": [
      "True\n",
      "True\n",
      "True\n",
      "True\n"
     ]
    }
   ],
   "source": [
    "def find_marker(text, length):\n",
    "    \n",
    "    def get_n():\n",
    "        i = length\n",
    "        while i < len(text):\n",
    "            yield i, text[i-length:i]\n",
    "            i += 1\n",
    "    \n",
    "    for index, chars in get_n():\n",
    "        if len(set(chars)) == length:\n",
    "            return index, chars\n",
    "\n",
    "for sample, answer in sample_text:        \n",
    "    print(find_marker(sample, 4)[0] == answer)"
   ]
  },
  {
   "cell_type": "code",
   "execution_count": 24,
   "id": "ad22fbd3",
   "metadata": {},
   "outputs": [
    {
     "data": {
      "text/plain": [
       "(1929, 'cbls')"
      ]
     },
     "execution_count": 24,
     "metadata": {},
     "output_type": "execute_result"
    }
   ],
   "source": [
    "# Part 1\n",
    "find_marker(parse_input(), 4)"
   ]
  },
  {
   "cell_type": "code",
   "execution_count": 25,
   "id": "3944c4aa",
   "metadata": {},
   "outputs": [
    {
     "data": {
      "text/plain": [
       "(3298, 'qdnfscgvhztjwl')"
      ]
     },
     "execution_count": 25,
     "metadata": {},
     "output_type": "execute_result"
    }
   ],
   "source": [
    "# Part 2\n",
    "find_marker(parse_input(), 14)"
   ]
  },
  {
   "cell_type": "code",
   "execution_count": null,
   "id": "80c33307",
   "metadata": {},
   "outputs": [],
   "source": []
  }
 ],
 "metadata": {
  "kernelspec": {
   "display_name": "Python 3 (ipykernel)",
   "language": "python",
   "name": "python3"
  },
  "language_info": {
   "codemirror_mode": {
    "name": "ipython",
    "version": 3
   },
   "file_extension": ".py",
   "mimetype": "text/x-python",
   "name": "python",
   "nbconvert_exporter": "python",
   "pygments_lexer": "ipython3",
   "version": "3.10.6"
  }
 },
 "nbformat": 4,
 "nbformat_minor": 5
}
