{
 "cells": [
  {
   "cell_type": "code",
   "execution_count": 1,
   "id": "524c3418",
   "metadata": {},
   "outputs": [],
   "source": [
    "import string"
   ]
  },
  {
   "cell_type": "code",
   "execution_count": 2,
   "id": "b39cdd87",
   "metadata": {},
   "outputs": [],
   "source": [
    "def read_file():\n",
    "    with open(\"input.txt\", \"rt\") as f:\n",
    "        return [l.strip() for l in f]"
   ]
  },
  {
   "cell_type": "code",
   "execution_count": 3,
   "id": "e82e5de4",
   "metadata": {},
   "outputs": [],
   "source": [
    "def split_line(line):\n",
    "    split = len(line) // 2\n",
    "    parts = line[0:split], line[split:]\n",
    "    return parts\n",
    "\n",
    "def find_common(parts):\n",
    "    return next(iter(set(parts[0]) & set(parts[1])))\n",
    "\n",
    "def score(letter):\n",
    "    if letter in string.ascii_lowercase:\n",
    "        return ord(letter) - 96\n",
    "    else:\n",
    "        return ord(letter) - 38"
   ]
  },
  {
   "cell_type": "code",
   "execution_count": 4,
   "id": "51d7c55b",
   "metadata": {},
   "outputs": [
    {
     "data": {
      "text/plain": [
       "8176"
      ]
     },
     "execution_count": 4,
     "metadata": {},
     "output_type": "execute_result"
    }
   ],
   "source": [
    "# Part 1\n",
    "\n",
    "sum(score(find_common(split_line(line))) for line in read_file())"
   ]
  },
  {
   "cell_type": "code",
   "execution_count": 5,
   "id": "2da77e4e",
   "metadata": {},
   "outputs": [
    {
     "data": {
      "text/plain": [
       "2689"
      ]
     },
     "execution_count": 5,
     "metadata": {},
     "output_type": "execute_result"
    }
   ],
   "source": [
    "# Part 2\n",
    "\n",
    "def take_3(entries):\n",
    "    x = 0\n",
    "    while x < len(entries):\n",
    "        yield entries[x:x+3]\n",
    "        x += 3\n",
    "\n",
    "total = 0\n",
    "for g in take_3(read_file()):\n",
    "    a, b, c = g\n",
    "    common_letter = next(iter(set(a) & set(b) & set(c)))\n",
    "    total += score(common_letter)\n",
    "total"
   ]
  },
  {
   "cell_type": "code",
   "execution_count": null,
   "id": "62c51dc6",
   "metadata": {},
   "outputs": [],
   "source": []
  }
 ],
 "metadata": {
  "kernelspec": {
   "display_name": "Python 3 (ipykernel)",
   "language": "python",
   "name": "python3"
  },
  "language_info": {
   "codemirror_mode": {
    "name": "ipython",
    "version": 3
   },
   "file_extension": ".py",
   "mimetype": "text/x-python",
   "name": "python",
   "nbconvert_exporter": "python",
   "pygments_lexer": "ipython3",
   "version": "3.10.6"
  }
 },
 "nbformat": 4,
 "nbformat_minor": 5
}
