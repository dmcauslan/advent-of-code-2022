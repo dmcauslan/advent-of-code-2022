{
 "cells": [
  {
   "cell_type": "code",
   "execution_count": 2,
   "id": "9211e175",
   "metadata": {},
   "outputs": [],
   "source": [
    "def read_input():\n",
    "    with open('input.txt', 'rt') as f:\n",
    "        return f.readlines()"
   ]
  },
  {
   "cell_type": "code",
   "execution_count": 3,
   "id": "5b14df97",
   "metadata": {},
   "outputs": [],
   "source": [
    "lines = read_input()\n",
    "totals = [0]\n",
    "for line in lines:\n",
    "    line = line.strip()\n",
    "    if not line:\n",
    "        totals.append(0)\n",
    "    else:\n",
    "        totals[-1] += int(line)\n",
    "totals = sorted(totals, reverse=True)"
   ]
  },
  {
   "cell_type": "code",
   "execution_count": 4,
   "id": "191f9441",
   "metadata": {},
   "outputs": [
    {
     "data": {
      "text/plain": [
       "70296"
      ]
     },
     "execution_count": 4,
     "metadata": {},
     "output_type": "execute_result"
    }
   ],
   "source": [
    "# Part 1\n",
    "totals[0]"
   ]
  },
  {
   "cell_type": "code",
   "execution_count": 5,
   "id": "9d6eac06",
   "metadata": {},
   "outputs": [
    {
     "data": {
      "text/plain": [
       "205381"
      ]
     },
     "execution_count": 5,
     "metadata": {},
     "output_type": "execute_result"
    }
   ],
   "source": [
    "# Part 2\n",
    "sum(totals[0:3])"
   ]
  },
  {
   "cell_type": "code",
   "execution_count": null,
   "id": "400949fc",
   "metadata": {},
   "outputs": [],
   "source": []
  }
 ],
 "metadata": {
  "kernelspec": {
   "display_name": "Python 3 (ipykernel)",
   "language": "python",
   "name": "python3"
  },
  "language_info": {
   "codemirror_mode": {
    "name": "ipython",
    "version": 3
   },
   "file_extension": ".py",
   "mimetype": "text/x-python",
   "name": "python",
   "nbconvert_exporter": "python",
   "pygments_lexer": "ipython3",
   "version": "3.10.6"
  }
 },
 "nbformat": 4,
 "nbformat_minor": 5
}
