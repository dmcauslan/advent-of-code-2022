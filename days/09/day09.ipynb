{
 "cells": [
  {
   "cell_type": "code",
   "execution_count": 1,
   "id": "2b208bc3",
   "metadata": {},
   "outputs": [],
   "source": [
    "sample_input = \"\"\"\n",
    "R 4\n",
    "U 4\n",
    "L 3\n",
    "D 1\n",
    "R 4\n",
    "D 1\n",
    "L 5\n",
    "R 2\n",
    "\"\"\"\n",
    "\n",
    "def read_input():\n",
    "    with open(\"input.txt\", \"rt\") as f:\n",
    "        return f.readlines()\n",
    "\n",
    "directions = {\n",
    "    \"D\": (0, -1),\n",
    "    \"U\": (0, 1),\n",
    "    \"L\": (-1, 0),\n",
    "    \"R\": (1, 0)\n",
    "}\n",
    "\n",
    "def parse_input(lines):\n",
    "    moves = []\n",
    "    for l in lines:\n",
    "        l = l.strip()\n",
    "        if not l:\n",
    "            continue\n",
    "        d, c = l.split(\" \")\n",
    "        c = int(c)\n",
    "        moves.extend([directions[d]] * c)\n",
    "    return moves\n",
    "\n",
    "class HeadAndTail():\n",
    "    def __init__(self):\n",
    "        self.head_position = (0, 0)\n",
    "        self.tail_position = (0, 0)\n",
    "        self.visited = set([self.tail_position])\n",
    "    \n",
    "    def move_tail(self, offset):\n",
    "        new_position = (self.tail_position[0]+offset[0], self.tail_position[1]+offset[1])\n",
    "#         print(\"move_tail\", self.tail_position, '->', new_position)\n",
    "        self.tail_position = new_position\n",
    "        self.visited.update([self.tail_position])\n",
    "#         print('visited', self.visited)\n",
    "    \n",
    "    def move_head(self, offset):\n",
    "        new_position = (self.head_position[0]+offset[0], self.head_position[1]+offset[1])\n",
    "#         print(\"move_head\", self.head_position, '->', new_position)\n",
    "        self.head_position = new_position\n",
    "        tail_off_x = self.head_position[0] - self.tail_position[0]\n",
    "        tail_off_y = self.head_position[1] - self.tail_position[1]\n",
    "        if tail_off_x == 0:\n",
    "            if abs(tail_off_y) > 1:\n",
    "                self.move_tail((0, tail_off_y // 2))\n",
    "        elif tail_off_y == 0:\n",
    "            if abs(tail_off_x) > 1:\n",
    "                self.move_tail((tail_off_x // 2, 0))\n",
    "        elif abs(tail_off_x) > 1 or abs(tail_off_y) > 1:\n",
    "            if tail_off_x > 0 and tail_off_y > 0:\n",
    "                o = (1, 1)\n",
    "            elif tail_off_x < 0 and tail_off_y > 0:\n",
    "                o = (-1, 1)\n",
    "            elif tail_off_x < 0 and tail_off_y < 0:\n",
    "                o = (-1, -1)\n",
    "            elif tail_off_x > 0 and tail_off_y < 0:\n",
    "                o = (1, -1)\n",
    "            else:\n",
    "                raise ValueError('what?', tail_off_x, tail_off_y)\n",
    "            self.move_tail(o)\n",
    "#         print('end', self.head_position, self.tail_position)\n",
    "        "
   ]
  },
  {
   "cell_type": "code",
   "execution_count": 2,
   "id": "35aeced4",
   "metadata": {},
   "outputs": [
    {
     "data": {
      "text/plain": [
       "13"
      ]
     },
     "execution_count": 2,
     "metadata": {},
     "output_type": "execute_result"
    }
   ],
   "source": [
    "moves = parse_input(sample_input.split(\"\\n\"))\n",
    "state = HeadAndTail()\n",
    "for m in moves:\n",
    "    state.move_head(m)\n",
    "len(state.visited)"
   ]
  },
  {
   "cell_type": "code",
   "execution_count": 3,
   "id": "234aa7c0",
   "metadata": {},
   "outputs": [
    {
     "data": {
      "text/plain": [
       "6067"
      ]
     },
     "execution_count": 3,
     "metadata": {},
     "output_type": "execute_result"
    }
   ],
   "source": [
    "# part 1\n",
    "moves = parse_input(read_input())\n",
    "state = HeadAndTail()\n",
    "for m in moves:\n",
    "    state.move_head(m)\n",
    "len(state.visited)"
   ]
  },
  {
   "cell_type": "code",
   "execution_count": null,
   "id": "6e219440",
   "metadata": {},
   "outputs": [],
   "source": []
  }
 ],
 "metadata": {
  "kernelspec": {
   "display_name": "Python 3 (ipykernel)",
   "language": "python",
   "name": "python3"
  },
  "language_info": {
   "codemirror_mode": {
    "name": "ipython",
    "version": 3
   },
   "file_extension": ".py",
   "mimetype": "text/x-python",
   "name": "python",
   "nbconvert_exporter": "python",
   "pygments_lexer": "ipython3",
   "version": "3.10.6"
  }
 },
 "nbformat": 4,
 "nbformat_minor": 5
}
