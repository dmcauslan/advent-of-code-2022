{
 "cells": [
  {
   "cell_type": "code",
   "execution_count": 45,
   "id": "a4a05ad1",
   "metadata": {},
   "outputs": [],
   "source": [
    "def read_file():\n",
    "        \n",
    "    def parse_line(line):\n",
    "        return line.strip().split(\" \")\n",
    "    \n",
    "    with open(\"input.txt\", \"rt\") as f:\n",
    "        return [parse_line(l) for l in f]"
   ]
  },
  {
   "cell_type": "code",
   "execution_count": 46,
   "id": "eb3cc310",
   "metadata": {},
   "outputs": [],
   "source": [
    "weights = {\n",
    "    \"R\": 1,\n",
    "    \"P\": 2,\n",
    "    \"S\": 3\n",
    "}\n",
    "\n",
    "loss = 0\n",
    "draw = 3\n",
    "win = 6\n",
    "\n",
    "mapping = {\n",
    "    \"A\": \"R\",\n",
    "    \"B\": \"P\",\n",
    "    \"C\": \"S\",\n",
    "    \"X\": \"R\",\n",
    "    \"Y\": \"P\",\n",
    "    \"Z\": \"S\"\n",
    "}\n",
    "\n",
    "# From perspective of player on right\n",
    "outcomes = {\n",
    "    (\"R\", \"R\"): draw,\n",
    "    (\"R\", \"P\"): win,\n",
    "    (\"R\", \"S\"): loss,\n",
    "    (\"P\", \"P\"): draw,\n",
    "    (\"P\", \"S\"): win,\n",
    "    (\"P\", \"R\"): loss,\n",
    "    (\"S\", \"S\"): draw,\n",
    "    (\"S\", \"R\"): win,\n",
    "    (\"S\", \"P\"): loss,\n",
    "}\n",
    "\n",
    "def normalize_line(line, mapping):\n",
    "    return mapping[line[0]], mapping[line[1]]\n",
    "\n",
    "def calc_score(hand):\n",
    "    return weights[hand[1]] + outcomes[hand]"
   ]
  },
  {
   "cell_type": "code",
   "execution_count": 47,
   "id": "e840ca7b",
   "metadata": {},
   "outputs": [
    {
     "data": {
      "text/plain": [
       "8933"
      ]
     },
     "execution_count": 47,
     "metadata": {},
     "output_type": "execute_result"
    }
   ],
   "source": [
    "# Part 1\n",
    "hands = [normalize_line(line, mapping) for line in read_file()]\n",
    "sum(calc_score(hand) for hand in hands)"
   ]
  },
  {
   "cell_type": "code",
   "execution_count": 48,
   "id": "c04dc98b",
   "metadata": {},
   "outputs": [],
   "source": [
    "# Part 2\n",
    "\n",
    "outcome_map = {\n",
    "    \"X\": loss,\n",
    "    \"Y\": draw,\n",
    "    \"Z\": win\n",
    "}\n",
    "\n",
    "def normalize_half_line(line, mapping):\n",
    "    return mapping[line[0]], line[1]\n",
    "\n",
    "def create_move(line):\n",
    "    # X - lose, Y - draw, Z - win\n",
    "    left, right = line\n",
    "    outcome = outcome_map[right]\n",
    "    for k, o in outcomes.items():\n",
    "        l, r = k\n",
    "        if l == left and o == outcome:\n",
    "            return left, r\n",
    "    raise ValueError(line)"
   ]
  },
  {
   "cell_type": "code",
   "execution_count": 49,
   "id": "273b0696",
   "metadata": {},
   "outputs": [
    {
     "data": {
      "text/plain": [
       "11998"
      ]
     },
     "execution_count": 49,
     "metadata": {},
     "output_type": "execute_result"
    }
   ],
   "source": [
    "# Part 2\n",
    "hands = [normalize_half_line(l, mapping) for l in read_file()]\n",
    "hands = [create_move(hand) for hand in hands]\n",
    "sum(calc_score(hand) for hand in hands)"
   ]
  },
  {
   "cell_type": "code",
   "execution_count": null,
   "id": "385bd29d",
   "metadata": {},
   "outputs": [],
   "source": []
  }
 ],
 "metadata": {
  "kernelspec": {
   "display_name": "Python 3 (ipykernel)",
   "language": "python",
   "name": "python3"
  },
  "language_info": {
   "codemirror_mode": {
    "name": "ipython",
    "version": 3
   },
   "file_extension": ".py",
   "mimetype": "text/x-python",
   "name": "python",
   "nbconvert_exporter": "python",
   "pygments_lexer": "ipython3",
   "version": "3.10.6"
  }
 },
 "nbformat": 4,
 "nbformat_minor": 5
}
