{
 "cells": [
  {
   "cell_type": "code",
   "execution_count": 1,
   "id": "e02188ff",
   "metadata": {},
   "outputs": [],
   "source": [
    "puzzle = \"\"\"\n",
    "    [D]    \n",
    "[N] [C]    \n",
    "[Z] [M] [P]\n",
    " 1   2   3 \n",
    "\n",
    "move 1 from 2 to 1\n",
    "move 3 from 1 to 3\n",
    "move 2 from 2 to 1\n",
    "move 1 from 1 to 2\n",
    "\"\"\"\n",
    "\n",
    "def read_file():\n",
    "    with open(\"input.txt\", \"rt\") as f:\n",
    "        return f.read()\n",
    "\n",
    "def parse_board(puzzle):\n",
    "    stacks = []\n",
    "    moves = []\n",
    "    \n",
    "    def parse_move(move):\n",
    "        if move:\n",
    "            elems = move.split(\" \")\n",
    "            moves.append((int(elems[1]), int(elems[3]), int(elems[5])))\n",
    "    \n",
    "    def parse_stack(stack, num_stacks):\n",
    "        if stack:\n",
    "            for i in range(num_stacks):\n",
    "                value = stack[1 + i*4]\n",
    "                if value and value != \" \":\n",
    "                    stacks[i].append(value)\n",
    "    \n",
    "    lines = puzzle.split(\"\\n\")\n",
    "    split_index = [i for i,l in enumerate(lines) if l.startswith(\" 1\")][0]\n",
    "    \n",
    "    num_cols = int(lines[split_index].split()[-1])\n",
    "    move_lines = lines[split_index+1:]\n",
    "    stack_lines = list(reversed(lines[:split_index]))\n",
    "    for _ in range(num_cols):\n",
    "        stacks.append([])\n",
    "\n",
    "    [parse_move(m) for m in move_lines]\n",
    "    [parse_stack(s, num_cols) for s in stack_lines]\n",
    "    \n",
    "    return stacks, moves"
   ]
  },
  {
   "cell_type": "code",
   "execution_count": 2,
   "id": "3f86787f",
   "metadata": {},
   "outputs": [],
   "source": [
    "def move(stacks, move):\n",
    "    count, source, dest = move\n",
    "    for c in range(count):\n",
    "        stacks[dest-1].append(stacks[source-1].pop())\n",
    "        \n",
    "def move_2(stacks, move):\n",
    "    count, source, dest = move\n",
    "    moved = []\n",
    "    for c in range(count):\n",
    "        moved.append(stacks[source-1].pop())\n",
    "    stacks[dest-1].extend(reversed(moved))\n",
    "        \n",
    "def summarize(stacks):\n",
    "    return \"\".join([s[-1] for s in stacks if s])\n",
    "        "
   ]
  },
  {
   "cell_type": "code",
   "execution_count": 3,
   "id": "373d8c04",
   "metadata": {},
   "outputs": [],
   "source": [
    "# Part 1"
   ]
  },
  {
   "cell_type": "code",
   "execution_count": 4,
   "id": "6023ef09",
   "metadata": {},
   "outputs": [
    {
     "data": {
      "text/plain": [
       "'CMZ'"
      ]
     },
     "execution_count": 4,
     "metadata": {},
     "output_type": "execute_result"
    }
   ],
   "source": [
    "stacks, moves = parse_board(puzzle)\n",
    "for m in moves:\n",
    "    move(stacks, m)\n",
    "summarize(stacks)"
   ]
  },
  {
   "cell_type": "code",
   "execution_count": 5,
   "id": "1eccdc7b",
   "metadata": {},
   "outputs": [
    {
     "data": {
      "text/plain": [
       "'VJSFHWGFT'"
      ]
     },
     "execution_count": 5,
     "metadata": {},
     "output_type": "execute_result"
    }
   ],
   "source": [
    "stacks, moves = parse_board(read_file())\n",
    "for m in moves:\n",
    "    move(stacks, m)\n",
    "summarize(stacks)"
   ]
  },
  {
   "cell_type": "code",
   "execution_count": 6,
   "id": "2fd817a0",
   "metadata": {},
   "outputs": [],
   "source": [
    "# Part 2"
   ]
  },
  {
   "cell_type": "code",
   "execution_count": 7,
   "id": "4de518bb",
   "metadata": {},
   "outputs": [
    {
     "data": {
      "text/plain": [
       "'MCD'"
      ]
     },
     "execution_count": 7,
     "metadata": {},
     "output_type": "execute_result"
    }
   ],
   "source": [
    "stacks,moves = parse_board(puzzle)\n",
    "for m in moves:\n",
    "    move_2(stacks, m)\n",
    "summarize(stacks)"
   ]
  },
  {
   "cell_type": "code",
   "execution_count": 8,
   "id": "b6d611b4",
   "metadata": {},
   "outputs": [
    {
     "data": {
      "text/plain": [
       "'LCTQFBVZV'"
      ]
     },
     "execution_count": 8,
     "metadata": {},
     "output_type": "execute_result"
    }
   ],
   "source": [
    "stacks,moves = parse_board(read_file())\n",
    "for m in moves:\n",
    "    move_2(stacks, m)\n",
    "summarize(stacks)"
   ]
  },
  {
   "cell_type": "code",
   "execution_count": null,
   "id": "092ac068",
   "metadata": {},
   "outputs": [],
   "source": []
  }
 ],
 "metadata": {
  "kernelspec": {
   "display_name": "Python 3 (ipykernel)",
   "language": "python",
   "name": "python3"
  },
  "language_info": {
   "codemirror_mode": {
    "name": "ipython",
    "version": 3
   },
   "file_extension": ".py",
   "mimetype": "text/x-python",
   "name": "python",
   "nbconvert_exporter": "python",
   "pygments_lexer": "ipython3",
   "version": "3.10.6"
  }
 },
 "nbformat": 4,
 "nbformat_minor": 5
}
